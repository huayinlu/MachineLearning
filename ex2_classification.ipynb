{
 "cells": [
  {
   "cell_type": "markdown",
   "metadata": {},
   "source": [
    "###  **Homework 2 -Classiication**"
   ]
  },
  {
   "cell_type": "markdown",
   "metadata": {},
   "source": [
    "二元分类是机器学习中最基础的问题之一，在这个作业中，你将学会如何做一个二元分类器，来根据人们的个人资料，判断其年收入是否高于50000美元。我们将以两种方法： logistic regression 和 generative model，来达成以上目的。\n",
    "\n",
    "（注：本文件是广工GDUT机器学习课程第二次作业的内容，资料和代码由助教整理，难免有错误和不足之处，如有出入，一切以老师提供的PPT为准，需要交流探讨可以联系助教QQ。）\n",
    "\n",
    "### Datadet\n",
    "\n",
    "This dataset is obtained by removing unnecessary attributes and balancing the ratio between positively and negatively labeled data in the Census-Income (KDD) Data Set, which can be found in UCI Machine Learning Repository. Only preprocessed and one-hot encoded data (i.e. X_train, Y_train and X_test) will be used in this tutorial. Raw data (i.e. train.csv and test.csv) are provided to you in case you are interested in it.\n",
    "\n",
    "这个数据集是来自UCI Machine Learning Repository 的 Census-Income (KDD) Data Set，train.csv、test_no_label.csv、sample_submission.csv是数据集中原有的数据。本次作业只需要**X_test、X_train、Y_train**这三个文件，train.csv和test.csv这两个原始资料文件则可以提供一些额外的资料。\n",
    "\n",
    "本课程助教对原数据进行了清洗：\n",
    "\n",
    "* 移除了一些不必要的数据\n",
    "* 对离散值进行了one-hot编码\n",
    "* 平衡了正负标记的数据的比例\n"
   ]
  },
  {
   "cell_type": "markdown",
   "metadata": {},
   "source": [
    "*离散特征进行one-hot编码后，编码后的特征，其实每一维度的特征都可以看做是连续的特征。就可以跟对连续型特征的归一化方法一样，对每一维特征进行归一化。比如归一化到[-1,1]，或者归一化到均值为0,方差为1。*"
   ]
  },
  {
   "cell_type": "markdown",
   "metadata": {},
   "source": [
    "打开X_train与X_test格式相同，以Notepad++打开X_train查看文件格式：\n",
    "![](https://ai-studio-static-online.cdn.bcebos.com/0ebde38b664a4d62810704c98622fa630a1850bc9a2a4deba775695252901ef0)\n",
    "\n",
    "是一个类似csv格式的文件，第一行是表头，从第二行开始是具体数据。表头是人们的个人信息，比如年龄、性别、学历、婚姻状况、孩子个数等等。\n",
    "再用Notepad++打开Y_train文件，进行查看：\n",
    "\n",
    "![](https://ai-studio-static-online.cdn.bcebos.com/7e3f969bce9043e888a62538536f5c71036d2b7740c14955bb3f422eff4d9f15)\n",
    "\n",
    "只有两列，第一列是人的编号（ID），第二列是一个label——如果年收入＞50K美元，label就是1；如果年收入≤50K美元，label就是0.\n",
    "\n",
    "最终，预测结果的保存格式为：第一行表头，总共两列，第一列是id，第二列是label。\n",
    "\n",
    "![](https://ai-studio-static-online.cdn.bcebos.com/649bce5565814a189c10972af70c65c053ce5004a70547619171f7be202ca799)\n"
   ]
  },
  {
   "cell_type": "markdown",
   "metadata": {},
   "source": [
    "### **作业概述**\n",
    "输入：人们的个人信息\n",
    "\n",
    "输出：0（年收入≤50K）或1（年收入＞50K）\n",
    "\n",
    "模型： logistic regression 或者 generative model"
   ]
  },
  {
   "cell_type": "markdown",
   "metadata": {},
   "source": [
    "## **2 原始代码**\n",
    "\n",
    "### **数据准备**\n",
    "\n",
    "导入数据，读入X_train、Y_train、X_test三个文件，输出文件命名为output_{}.csv"
   ]
  },
  {
   "cell_type": "code",
   "execution_count": 1,
   "metadata": {},
   "outputs": [],
   "source": [
    "import numpy as np\n",
    "np.random.seed(0)\n",
    "\n",
    "X_train_fpath = './data/data/X_train'\n",
    "Y_train_fpath = './data/data/Y_train'\n",
    "X_test_fpath = './data/data/X_test'\n",
    "output_fpath = './output_{}.csv'\n",
    "\n",
    "# 把csv文件转换成numpy的数组\n",
    "with open(X_train_fpath) as f:\n",
    "    next(f)\n",
    "    X_train = np.array([line.strip('\\n').split(',')[1:] for line in f], dtype = float)\n",
    "with open(Y_train_fpath) as f:\n",
    "    next(f)\n",
    "    Y_train = np.array([line.strip('\\n').split(',')[1] for line in f], dtype = float)\n",
    "with open(X_test_fpath) as f:\n",
    "    next(f)\n",
    "    X_test = np.array([line.strip('\\n').split(',')[1:] for line in f], dtype = float)\n"
   ]
  },
  {
   "cell_type": "markdown",
   "metadata": {},
   "source": [
    "### **标准化（Normalization）**\n",
    "\n",
    "![](https://ai-studio-static-online.cdn.bcebos.com/6ee9fceca55b4b5e9be33e36123185809800c900c4de4bf4b4ac31cdbd33869f)\n",
    "\n"
   ]
  },
  {
   "cell_type": "code",
   "execution_count": 2,
   "metadata": {},
   "outputs": [],
   "source": [
    "def _normalize(X, train = True, specified_column = None, X_mean = None, X_std = None):\n",
    "    # This function normalizes specific columns of X.\n",
    "    # The mean and standard variance of training data will be reused when processing testing data.\n",
    "    #\n",
    "    # Arguments:\n",
    "    #     X: data to be processed\n",
    "    #     train: 'True' when processing training data, 'False' for testing data\n",
    "    #     specific_column: indexes of the columns that will be normalized. If 'None', all columns\n",
    "    #         will be normalized.\n",
    "    #     X_mean: mean value of training data, used when train = 'False'\n",
    "    #     X_std: standard deviation of training data, used when train = 'False'\n",
    "    # Outputs:\n",
    "    #     X: normalized data\n",
    "    #     X_mean: computed mean value of training data\n",
    "    #     X_std: computed standard deviation of training data\n",
    "\n",
    "    if specified_column == None:\n",
    "        specified_column = np.arange(X.shape[1])\n",
    "        # print(specified_column)\n",
    "        # 输出列的ID：\n",
    "        #[  0   1   2   3   4   5   6   7   8   9  10  11  12  13  14  15  16  17\n",
    "        #  18  19  20  21  22  23  24  25  26  27  28  29  30  31  32  33  34  35\n",
    "        # ...\n",
    "        # 504 505 506 507 508 509]\n",
    "    if train:\n",
    "        X_mean = np.mean(X[:, specified_column] ,0).reshape(1, -1)\n",
    "        X_std  = np.std(X[:, specified_column], 0).reshape(1, -1)\n",
    "\n",
    "    X[:,specified_column] = (X[:, specified_column] - X_mean) / (X_std + 1e-8) #1e-8防止除零\n",
    "     \n",
    "    return X, X_mean, X_std\n"
   ]
  },
  {
   "cell_type": "markdown",
   "metadata": {},
   "source": [
    "### **分割测试集和验证集**\n",
    "  对原来的X_train进行分割，分割比例为train:dev = 9:1。这里没有shuffle，是固定分割。"
   ]
  },
  {
   "cell_type": "code",
   "execution_count": 3,
   "metadata": {},
   "outputs": [
    {
     "name": "stdout",
     "output_type": "stream",
     "text": [
      "Size of training set: 48830\n",
      "Size of development set: 5426\n",
      "Size of testing set: 27622\n",
      "Dimension of data: 510\n"
     ]
    }
   ],
   "source": [
    "def _train_dev_split(X, Y, dev_ratio = 0.25):\n",
    "    # This function spilts data into training set and development set.\n",
    "    train_size = int(len(X) * (1 - dev_ratio))\n",
    "    return X[:train_size], Y[:train_size], X[train_size:], Y[train_size:]\n",
    " \n",
    "# Normalize training and testing data\n",
    "X_train, X_mean, X_std = _normalize(X_train, train = True)\n",
    "X_test, _, _= _normalize(X_test, train = False, specified_column = None, X_mean = X_mean, X_std = X_std)\n",
    "\n",
    "# 把数据分成训练集和验证集\n",
    "dev_ratio = 0.1\n",
    "X_train, Y_train, X_dev, Y_dev = _train_dev_split(X_train, Y_train, dev_ratio = dev_ratio)\n",
    "\n",
    "train_size = X_train.shape[0]\n",
    "dev_size = X_dev.shape[0]\n",
    "test_size = X_test.shape[0]\n",
    "data_dim = X_train.shape[1]\n",
    "print('Size of training set: {}'.format(train_size))\n",
    "print('Size of development set: {}'.format(dev_size))\n",
    "print('Size of testing set: {}'.format(test_size))\n",
    "print('Dimension of data: {}'.format(data_dim))\n"
   ]
  },
  {
   "cell_type": "markdown",
   "metadata": {},
   "source": [
    "### **一些函数的定义**\n",
    "![](https://ai-studio-static-online.cdn.bcebos.com/d5232e15effa42a1a379a8f44ae553affdb3675c4708476b9399a933e3036361)\n"
   ]
  },
  {
   "cell_type": "code",
   "execution_count": 22,
   "metadata": {},
   "outputs": [],
   "source": [
    "def _shuffle(X, Y):\n",
    "    # This function shuffles two equal-length list/array, X and Y, together.\n",
    "    randomize = np.arange(len(X))\n",
    "    np.random.shuffle(randomize)\n",
    "    return (X[randomize], Y[randomize])\n",
    "\n",
    "def _sigmoid(z):\n",
    "    # Sigmoid function can be used to calculate probability.\n",
    "    # To avoid overflow, minimum/maximum output value is set.\n",
    "    return np.clip(1 / (1.0 + np.exp(-z)), 1e-8, 1 - (1e-8))\n",
    "\n",
    "def _f(X, w, b):\n",
    "    # This is the logistic regression function, parameterized by w and b\n",
    "    #\n",
    "    # Arguements:\n",
    "    #     X: input data, shape = [batch_size, data_dimension]\n",
    "    #     w: weight vector, shape = [data_dimension, ]\n",
    "    #     b: bias, scalar\n",
    "    # Output:\n",
    "    #     predicted probability of each row of X being positively labeled, shape = [batch_size, ]\n",
    "    return _sigmoid(np.matmul(X, w) + b)\n",
    "\n",
    "def _predict(X, w, b):\n",
    "    # This function returns a truth value prediction for each row of X \n",
    "    # by rounding the result of logistic regression function.\n",
    "    return np.round(_f(X, w, b)).astype(np.int)\n",
    "    \n",
    "def _accuracy(Y_pred, Y_label):\n",
    "    # This function calculates prediction accuracy\n",
    "    acc = 1 - np.mean(np.abs(Y_pred - Y_label))\n",
    "    return acc"
   ]
  },
  {
   "cell_type": "markdown",
   "metadata": {},
   "source": [
    "## **2.1 Logistic Regression**\n",
    "### **损失函数（Loss Function）**\n",
    "\n",
    "![](https://ai-studio-static-online.cdn.bcebos.com/c86e9f2725d14e92bd70e72de3a6985bd13c26c90d914793a8dfe1b1a90411e9)\n"
   ]
  },
  {
   "cell_type": "code",
   "execution_count": 23,
   "metadata": {},
   "outputs": [],
   "source": [
    "def _cross_entropy_loss(y_pred, Y_label):\n",
    "    # This function computes the cross entropy.\n",
    "    #\n",
    "    # Arguements:\n",
    "    #     y_pred: probabilistic predictions, float vector\n",
    "    #     Y_label: ground truth labels, bool vector\n",
    "    # Output:\n",
    "    #     cross entropy, scalar\n",
    "    cross_entropy = -np.dot(Y_label, np.log(y_pred)) - np.dot((1 - Y_label), np.log(1 - y_pred))\n",
    "    return cross_entropy"
   ]
  },
  {
   "cell_type": "markdown",
   "metadata": {},
   "source": [
    "### **梯度（Gradient）**\n",
    "![](https://ai-studio-static-online.cdn.bcebos.com/60b254a4f5cd430d8cccec1ef2a8376fd0f3704febad40bb8f7e5f0b0e356085)\n",
    "![](https://ai-studio-static-online.cdn.bcebos.com/8bc0b5352b3e42cea812373d43cec1bdcc6b6337302e431fa9b5850617787127)\n",
    "![](https://ai-studio-static-online.cdn.bcebos.com/4c57b06c31fd4f6f8349be9acc5b1915cc2aa1f71a844381ab4a8b934ac8ba66)\n",
    "![](https://ai-studio-static-online.cdn.bcebos.com/47218d7716264d4082c632f71af3f1332f80c4f515a84fed815cb92e0d1736d8)\n",
    "\n",
    "因为后面用到了batch（小批次处理，一次同时训练多个数据x[j]来更新参数）。所以函数中输入的x和Y_lable都是1 * N（N是批次大小）的一维数组，每一批次的 w_grad 是N个数据的梯度累加的和。\n",
    "\n"
   ]
  },
  {
   "cell_type": "code",
   "execution_count": 24,
   "metadata": {},
   "outputs": [],
   "source": [
    "def _gradient(X, Y_label, w, b):\n",
    "    # This function computes the gradient of cross entropy loss with respect to weight w and bias b.\n",
    "    y_pred = _f(X, w, b)\n",
    "    pred_error = Y_label - y_pred\n",
    "    w_grad = -np.sum(pred_error * X.T, 1)\n",
    "    b_grad = -np.sum(pred_error)\n",
    "    return w_grad, b_grad"
   ]
  },
  {
   "cell_type": "markdown",
   "metadata": {},
   "source": [
    "### **训练（Training）**\n",
    "使用小批次（mini-batch）的梯度下降法来训练。训练数据被分为许多小批次，针对每一个小批次，我们分别计算其梯度以及损失，并根据该批次来更新模型的参数。当一次循环（iteration）完成，也就是整个训练集的所有小批次都被使用过一次以后，我们将所有训练数据打散并且重新分成新的小批次，进行下一个循环，直到事先设定的循环数量（iteration）达成为止。\n",
    "\n",
    "* **GD（Gradient Descent）**：就是没有利用Batch Size，用基于整个数据库得到梯度，梯度准确，但数据量大时，计算非常耗时，同时神经网络常是非凸的，网络最终可能收敛到初始点附近的局部最优点。\n",
    "\n",
    "* **SGD（Stochastic Gradient Descent）**：就是Batch Size=1，每次计算一个样本，梯度不准确，所以学习率要降低。\n",
    "\n",
    "* **mini-batch SGD**：就是选着合适Batch Size的SGD算法，mini-batch利用噪声梯度，一定程度上缓解了GD算法直接掉进初始点附近的局部最优值。同时梯度准确了，学习率要加大。\n",
    "\n",
    "\n",
    "这里权重W用了全0初始化，logistic regression 中可以用0初始化，原因如下：\n",
    "Logistic回归没有隐藏层。 如果将权重初始化为零，则Logistic回归中的第一个示例x将输出零，但Logistic回归的导数取决于不是零的输入x（因为没有隐藏层）。 因此，在第二次迭代（迭代发生在w和b值的更新中，即梯度下降）中，如果x不是常量向量，则权值遵循x的分布并且彼此不同。"
   ]
  },
  {
   "cell_type": "code",
   "execution_count": 25,
   "metadata": {},
   "outputs": [
    {
     "name": "stdout",
     "output_type": "stream",
     "text": [
      "Training loss: 0.2713554352464059\n",
      "Development loss: 0.2896359675026287\n",
      "Training accuracy: 0.8836166291214418\n",
      "Development accuracy: 0.8733873940287504\n"
     ]
    }
   ],
   "source": [
    "# 初始化权重w和b，令它们都为0\n",
    "w = np.zeros((data_dim,))\t#[0,0,0,...,0] 510\n",
    "b = np.zeros((1,))\t\t \t#[0]\n",
    "\n",
    "# 训练时的超参数\n",
    "max_iter = 10\n",
    "batch_size = 8\n",
    "learning_rate = 0.2\n",
    "\n",
    "# 保存每个iteration的loss和accuracy，以便后续画图\n",
    "train_loss = []\n",
    "dev_loss = []\n",
    "train_acc = []\n",
    "dev_acc = []\n",
    "\n",
    "# 累计参数更新的次数\n",
    "step = 1\n",
    "\n",
    "# 迭代训练\n",
    "for epoch in range(max_iter):\n",
    "    # 在每个epoch开始时，随机打散训练数据\n",
    "    X_train, Y_train = _shuffle(X_train, Y_train)\n",
    "        \n",
    "    # Mini-batch训练\n",
    "    for idx in range(int(np.floor(train_size / batch_size))):\n",
    "        X = X_train[idx*batch_size:(idx+1)*batch_size]\n",
    "        Y = Y_train[idx*batch_size:(idx+1)*batch_size]\n",
    "\n",
    "        # 计算梯度\n",
    "        w_grad, b_grad = _gradient(X, Y, w, b)\n",
    "            \n",
    "        # 梯度下降法更新\n",
    "        # 学习率随时间衰减\n",
    "        w = w - learning_rate/np.sqrt(step) * w_grad\n",
    "        b = b - learning_rate/np.sqrt(step) * b_grad\n",
    "\n",
    "        step = step + 1\n",
    "            \n",
    "    # 计算训练集和验证集的loss和accuracy\n",
    "    y_train_pred = _f(X_train, w, b)\n",
    "    Y_train_pred = np.round(y_train_pred)\n",
    "    train_acc.append(_accuracy(Y_train_pred, Y_train))\n",
    "    train_loss.append(_cross_entropy_loss(y_train_pred, Y_train) / train_size)\n",
    "\n",
    "    y_dev_pred = _f(X_dev, w, b)\n",
    "    Y_dev_pred = np.round(y_dev_pred)\n",
    "    dev_acc.append(_accuracy(Y_dev_pred, Y_dev))\n",
    "    dev_loss.append(_cross_entropy_loss(y_dev_pred, Y_dev) / dev_size)\n",
    "\n",
    "print('Training loss: {}'.format(train_loss[-1]))\n",
    "print('Development loss: {}'.format(dev_loss[-1]))\n",
    "print('Training accuracy: {}'.format(train_acc[-1]))\n",
    "print('Development accuracy: {}'.format(dev_acc[-1]))"
   ]
  },
  {
   "cell_type": "markdown",
   "metadata": {},
   "source": [
    "### **保存weight和bias**\n",
    "输出weight_logistic.npy和bias_logistic.npy。方便助教调用私有库检查"
   ]
  },
  {
   "cell_type": "code",
   "execution_count": 26,
   "metadata": {},
   "outputs": [],
   "source": [
    "np.save('weight_logistic.npy',w)\n",
    "np.save('bias_logistic.npy',b)"
   ]
  },
  {
   "cell_type": "markdown",
   "metadata": {},
   "source": [
    "### **画出loss和accuracy的曲线**"
   ]
  },
  {
   "cell_type": "code",
   "execution_count": 27,
   "metadata": {},
   "outputs": [
    {
     "data": {
      "image/png": "[encoded data removed]",
      "text/plain": [
       "<Figure size 432x288 with 1 Axes>"
      ]
     },
     "metadata": {
      "needs_background": "light"
     },
     "output_type": "display_data"
    },
    {
     "data": {
      "image/png": "[encoded data removed]",
      "text/plain": [
       "<Figure size 432x288 with 1 Axes>"
      ]
     },
     "metadata": {
      "needs_background": "light"
     },
     "output_type": "display_data"
    }
   ],
   "source": [
    "import matplotlib.pyplot as plt\n",
    "\n",
    "# Loss曲线\n",
    "plt.plot(train_loss)\n",
    "plt.plot(dev_loss)\n",
    "plt.title('Loss')\n",
    "plt.legend(['train', 'dev'])\n",
    "plt.savefig('loss.png')\n",
    "plt.show()\n",
    "\n",
    "# Accuracy曲线\n",
    "plt.plot(train_acc)\n",
    "plt.plot(dev_acc)\n",
    "plt.title('Accuracy')\n",
    "plt.legend(['train', 'dev'])\n",
    "plt.savefig('acc.png')\n",
    "plt.show()"
   ]
  },
  {
   "cell_type": "markdown",
   "metadata": {},
   "source": [
    "### **测试（test）**\n",
    "测试集中共有27622个测试数据。预测测试集的标签，并保存在 output_logistic.csv 中。\n",
    "\n",
    "保存格式为：第一行表头，总共两列，第一列是id，第二列是label：\n",
    "![](https://ai-studio-static-online.cdn.bcebos.com/532fc7cee1aa48edbb99e4814c1f1d184c507e5feed04c9789e8c06db6e50a34)\n"
   ]
  },
  {
   "cell_type": "code",
   "execution_count": 12,
   "metadata": {},
   "outputs": [
    {
     "name": "stdout",
     "output_type": "stream",
     "text": [
      " Not in universe -4.031960278019251\n",
      " Spouse of householder -1.6254039587051405\n",
      " Other Rel <18 never married RP of subfamily -1.4195759775765406\n",
      " Child 18+ ever marr Not in a subfamily -1.2958572076664743\n",
      " Unemployed full-time 1.171255828588591\n",
      " Other Rel <18 ever marr RP of subfamily -1.167791807296237\n",
      " Italy -1.093458143800618\n",
      " Vietnam -1.0630365633146408\n",
      "num persons worked for employer 0.9389922773566495\n",
      " 1 0.8226614922117187\n"
     ]
    }
   ],
   "source": [
    "# 预测测试集标签\n",
    "predictions = _predict(X_test, w, b)\n",
    "# 保存到output_logistic.csv\n",
    "with open(output_fpath.format('logistic'), 'w') as f:\n",
    "    f.write('id,label\\n')\n",
    "    for i, label in  enumerate(predictions):\n",
    "        f.write('{},{}\\n'.format(i, label))\n",
    "\n",
    "# 输出最重要的特征和权重\n",
    "# 对w的绝对值从大到小排序，输出对应的ID\n",
    "ind = np.argsort(np.abs(w))[::-1]\n",
    "with open(X_test_fpath) as f:\n",
    "\t# 读入表头（特征名）\n",
    "    content = f.readline().strip('\\n').split(',')\n",
    "features = np.array(content)\n",
    "for i in ind[0:10]:\n",
    "    print(features[i], w[i])"
   ]
  },
  {
   "cell_type": "markdown",
   "metadata": {},
   "source": [
    "## **2.2 概率生成模型（Porbabilistic generative model）**\n",
    "### **数据预处理**\n",
    "训练集与测试集的处理方法跟 logistic regression 一模一样，然而因为 generative model 有可解析的最佳解，因此不必使用到验证集（development set）"
   ]
  },
  {
   "cell_type": "code",
   "execution_count": 14,
   "metadata": {},
   "outputs": [],
   "source": [
    "# 把CSV文件转换为numpy\n",
    "with open(X_train_fpath) as f:\n",
    "    next(f)\n",
    "    X_train = np.array([line.strip('\\n').split(',')[1:] for line in f], dtype = float)\n",
    "with open(Y_train_fpath) as f:\n",
    "    next(f)\n",
    "    Y_train = np.array([line.strip('\\n').split(',')[1] for line in f], dtype = float)\n",
    "with open(X_test_fpath) as f:\n",
    "    next(f)\n",
    "    X_test = np.array([line.strip('\\n').split(',')[1:] for line in f], dtype = float)\n",
    "\n",
    "# 标准化训练集和测试集\n",
    "X_train, X_mean, X_std = _normalize(X_train, train = True)\n",
    "X_test, _, _= _normalize(X_test, train = False, specified_column = None, X_mean = X_mean, X_std = X_std)"
   ]
  },
  {
   "cell_type": "markdown",
   "metadata": {},
   "source": [
    "### **均值和协方差（Mean and Covariance）**\n",
    "在 generative model 中，我们需要分别计算两个类别内的数据的均值和协方差。\n",
    "* 类别0（y=0）：年收入不超过50,000美元\n",
    "\n",
    "![](https://ai-studio-static-online.cdn.bcebos.com/00bd47da69844ff8a2eef485693d307d123a79e178bf4cea92c9b685d4963845)\n",
    "* 类别1（y=1）：年收入超过50,000美元\n",
    "\n",
    "![](https://ai-studio-static-online.cdn.bcebos.com/93be169a94ef45f594cde4133aa572b79a77bdde88234dbf918e3d9a358377c6)\n",
    "\n",
    "其中，n0是类别0的个数，n1是类别1的个数。\n",
    "\n",
    "最终，模型共享的协方差矩阵为所有协方差的加权平均值：![](https://ai-studio-static-online.cdn.bcebos.com/ed724ca7b5504db78c7eaa28a80ef84b7ae9d6cb646c4bc58e8693ecb96db14f)\n",
    "\n",
    "（这段代码运行时间较长）\n",
    "\n"
   ]
  },
  {
   "cell_type": "code",
   "execution_count": 15,
   "metadata": {},
   "outputs": [],
   "source": [
    "# 分别计算类别0和类别1的均值\n",
    "X_train_0 = np.array([x for x, y in zip(X_train, Y_train) if y == 0]) \n",
    "X_train_1 = np.array([x for x, y in zip(X_train, Y_train) if y == 1])\n",
    "\n",
    "mean_0 = np.mean(X_train_0, axis = 0)\n",
    "mean_1 = np.mean(X_train_1, axis = 0)  \n",
    "\n",
    "# 分别计算类别0和类别1的协方差\n",
    "cov_0 = np.zeros((data_dim, data_dim))\n",
    "cov_1 = np.zeros((data_dim, data_dim))\n",
    "\n",
    "for x in X_train_0:\n",
    "    cov_0 += np.dot(np.transpose([x - mean_0]), [x - mean_0]) / X_train_0.shape[0]\n",
    "for x in X_train_1:\n",
    "    cov_1 += np.dot(np.transpose([x - mean_1]), [x - mean_1]) / X_train_1.shape[0]\n",
    "\n",
    "# 共享协方差 = 独立的协方差的加权求和\n",
    "cov = (cov_0 * X_train_0.shape[0] + cov_1 * X_train_1.shape[0]) / (X_train_0.shape[0] + X_train_1.shape[0])"
   ]
  },
  {
   "cell_type": "markdown",
   "metadata": {},
   "source": [
    "### **计算权重和偏差（Computing weights and bias）**\n",
    "权重矩阵与偏差向量可以直接被计算出来，\n",
    "\n",
    "![](https://ai-studio-static-online.cdn.bcebos.com/f3236267a98e4e56a3cf4895ec3c3f86ce4283931aff412d8679d8b076ac9fa2)\n"
   ]
  },
  {
   "cell_type": "code",
   "execution_count": 16,
   "metadata": {},
   "outputs": [
    {
     "name": "stdout",
     "output_type": "stream",
     "text": [
      "Training accuracy: 0.8714427897375405\n"
     ]
    }
   ],
   "source": [
    "# 计算协方差矩阵的逆\n",
    "# 协方差矩阵可能是奇异矩阵, 直接使用np.linalg.inv() 可能会产生错误\n",
    "# 通过SVD矩阵分解，可以快速准确地获得方差矩阵的逆\n",
    "u, s, v = np.linalg.svd(cov, full_matrices=False)\n",
    "inv = np.matmul(v.T * 1 / s, u.T)\n",
    "\n",
    "# 计算w和b\n",
    "w = np.dot(inv, mean_0 - mean_1)\n",
    "b =  (-0.5) * np.dot(mean_0, np.dot(inv, mean_0)) + 0.5 * np.dot(mean_1, np.dot(inv, mean_1))\\\n",
    "    + np.log(float(X_train_0.shape[0]) / X_train_1.shape[0]) \n",
    "\n",
    "# 计算训练集上的准确率\n",
    "Y_train_pred = 1 - _predict(X_train, w, b)\n",
    "print('Training accuracy: {}'.format(_accuracy(Y_train_pred, Y_train)))"
   ]
  },
  {
   "cell_type": "markdown",
   "metadata": {},
   "source": [
    "### **保存weight和bias**\n",
    "输出weight_generative.npy和bias_generative.npy。方便助教调用私有库检查."
   ]
  },
  {
   "cell_type": "code",
   "execution_count": 17,
   "metadata": {},
   "outputs": [],
   "source": [
    "np.save('weight_generative.npy',w)\n",
    "np.save('bias_generative.npy',b)"
   ]
  },
  {
   "cell_type": "markdown",
   "metadata": {},
   "source": [
    "### **测试**\n",
    "预测测试集的标签，并保存在 output_generative.csv 中。"
   ]
  },
  {
   "cell_type": "code",
   "execution_count": 18,
   "metadata": {},
   "outputs": [
    {
     "name": "stdout",
     "output_type": "stream",
     "text": [
      " Retail trade 7.806640625\n",
      " 34 -5.94873046875\n",
      " 37 -5.43212890625\n",
      " Other service -5.10986328125\n",
      " Different county same state 4.904296875\n",
      " Different state in West -4.5634765625\n",
      " Yes -4.00390625\n",
      " Professional specialty -3.9609375\n",
      " Nonmover 3.75830078125\n",
      " 32 3.61083984375\n"
     ]
    }
   ],
   "source": [
    "# 预测测试集的label\n",
    "predictions = 1 - _predict(X_test, w, b)\n",
    "with open(output_fpath.format('generative'), 'w') as f:\n",
    "    f.write('id,label\\n')\n",
    "    for i, label in  enumerate(predictions):\n",
    "        f.write('{},{}\\n'.format(i, label))\n",
    "\n",
    "# 输出最重要的几个特征\n",
    "ind = np.argsort(np.abs(w))[::-1]\n",
    "with open(X_test_fpath) as f:\n",
    "    content = f.readline().strip('\\n').split(',')\n",
    "features = np.array(content)\n",
    "for i in ind[0:10]:\n",
    "    print(features[i], w[i])"
   ]
  },
  {
   "cell_type": "code",
   "execution_count": null,
   "metadata": {},
   "outputs": [],
   "source": []
  }
 ],
 "metadata": {
  "kernelspec": {
   "display_name": "Python 3",
   "language": "python",
   "name": "python3"
  },
  "language_info": {
   "codemirror_mode": {
    "name": "ipython",
    "version": 3
   },
   "file_extension": ".py",
   "mimetype": "text/x-python",
   "name": "python",
   "nbconvert_exporter": "python",
   "pygments_lexer": "ipython3",
   "version": "3.9.0"
  }
 },
 "nbformat": 4,
 "nbformat_minor": 1
}
